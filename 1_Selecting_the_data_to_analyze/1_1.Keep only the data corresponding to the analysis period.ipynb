{
 "cells": [
  {
   "cell_type": "code",
   "execution_count": 1,
   "id": "2c8516b2",
   "metadata": {
    "id": "2c8516b2"
   },
   "outputs": [],
   "source": [
    "#필요한 기능 불러오기(import the necessary function)"
   ]
  },
  {
   "cell_type": "code",
   "execution_count": 2,
   "id": "4952435e",
   "metadata": {},
   "outputs": [],
   "source": [
    "import pandas as pd"
   ]
  },
  {
   "cell_type": "code",
   "execution_count": 3,
   "id": "4cdf8b10",
   "metadata": {},
   "outputs": [],
   "source": [
    "#파일 불러오기(load file)"
   ]
  },
  {
   "cell_type": "code",
   "execution_count": 8,
   "id": "75f10d03",
   "metadata": {},
   "outputs": [],
   "source": [
    "df = pd.read_json('71.json') ## pd.read_json 이용"
   ]
  },
  {
   "cell_type": "code",
   "execution_count": 9,
   "id": "da05ece1",
   "metadata": {},
   "outputs": [],
   "source": [
    "#필요한 기간만 설정(period setting)"
   ]
  },
  {
   "cell_type": "code",
   "execution_count": 10,
   "id": "6bb23527",
   "metadata": {},
   "outputs": [
    {
     "name": "stderr",
     "output_type": "stream",
     "text": [
      "C:\\Users\\choig\\AppData\\Local\\Temp\\ipykernel_12336\\1527223748.py:2: UserWarning: Boolean Series key will be reindexed to match DataFrame index.\n",
      "  df=df[df['header']>'2020-08-01'][df['header']<'2022-09-01']\n"
     ]
    }
   ],
   "source": [
    "df['header']=df['time'].apply(lambda x :  x.split(\"T\")[0])\n",
    "df=df[df['header']>'2020-08-01'][df['header']<'2022-09-01']"
   ]
  },
  {
   "cell_type": "code",
   "execution_count": 13,
   "id": "03315a2e",
   "metadata": {},
   "outputs": [],
   "source": [
    "#이미 삭제된 영상은 다운로드가 불가능해서 지웠어요(I deleted the already deleted video because it was impossible to download.)"
   ]
  },
  {
   "cell_type": "code",
   "execution_count": 14,
   "id": "db91efee",
   "metadata": {},
   "outputs": [],
   "source": [
    "df=df[df['title']!='삭제된 동영상을 시청함']"
   ]
  },
  {
   "cell_type": "code",
   "execution_count": 15,
   "id": "f2878737",
   "metadata": {
    "id": "f2878737",
    "outputId": "44bda808-0b5d-4c86-a9ef-b6f73af82880"
   },
   "outputs": [
    {
     "data": {
      "text/html": [
       "<div>\n",
       "<style scoped>\n",
       "    .dataframe tbody tr th:only-of-type {\n",
       "        vertical-align: middle;\n",
       "    }\n",
       "\n",
       "    .dataframe tbody tr th {\n",
       "        vertical-align: top;\n",
       "    }\n",
       "\n",
       "    .dataframe thead th {\n",
       "        text-align: right;\n",
       "    }\n",
       "</style>\n",
       "<table border=\"1\" class=\"dataframe\">\n",
       "  <thead>\n",
       "    <tr style=\"text-align: right;\">\n",
       "      <th></th>\n",
       "      <th>header</th>\n",
       "      <th>title</th>\n",
       "      <th>titleUrl</th>\n",
       "      <th>subtitles</th>\n",
       "      <th>time</th>\n",
       "    </tr>\n",
       "  </thead>\n",
       "  <tbody>\n",
       "    <tr>\n",
       "      <th>1206</th>\n",
       "      <td>2022-08-31</td>\n",
       "      <td>Watched 독종 VS 별종 두 변호사의 한치 양보 없는 티키타카 | [변론을 시...</td>\n",
       "      <td>https://www.youtube.com/watch?v=uGKJ_ecpPK0</td>\n",
       "      <td>NaN</td>\n",
       "      <td>2022-08-31T16:06:34.219Z</td>\n",
       "    </tr>\n",
       "    <tr>\n",
       "      <th>1207</th>\n",
       "      <td>2022-08-31</td>\n",
       "      <td>Watched 촬영을 포기할 수 밖에 없었다</td>\n",
       "      <td>https://www.youtube.com/watch?v=OM2F6g5bL0E</td>\n",
       "      <td>[{'name': 'haha ha', 'url': 'https://www.youtu...</td>\n",
       "      <td>2022-08-31T15:58:54.628Z</td>\n",
       "    </tr>\n",
       "    <tr>\n",
       "      <th>1208</th>\n",
       "      <td>2022-08-31</td>\n",
       "      <td>Watched 이지카이트 (Izykite) - 여름밤 [Official Video]</td>\n",
       "      <td>https://www.youtube.com/watch?v=SomJqQvGpsQ</td>\n",
       "      <td>NaN</td>\n",
       "      <td>2022-08-31T15:58:41.346Z</td>\n",
       "    </tr>\n",
       "    <tr>\n",
       "      <th>1209</th>\n",
       "      <td>2022-08-31</td>\n",
       "      <td>Watched 지잉~ 슈.슈.슉 착! 바쁘다 바빠! | 갤럭시 폴더블폰 생산 과정</td>\n",
       "      <td>https://www.youtube.com/watch?v=77mTHIs_gT8</td>\n",
       "      <td>NaN</td>\n",
       "      <td>2022-08-31T12:42:28.281Z</td>\n",
       "    </tr>\n",
       "    <tr>\n",
       "      <th>1210</th>\n",
       "      <td>2022-08-31</td>\n",
       "      <td>Watched [Edit.ver/편집버전] 예전 영상 우려먹기 3탄!! 박여사님표 ...</td>\n",
       "      <td>https://www.youtube.com/watch?v=g8t7X1lxdZ4</td>\n",
       "      <td>[{'name': '입짧은햇님', 'url': 'https://www.youtube...</td>\n",
       "      <td>2022-08-31T12:00:59.803Z</td>\n",
       "    </tr>\n",
       "    <tr>\n",
       "      <th>...</th>\n",
       "      <td>...</td>\n",
       "      <td>...</td>\n",
       "      <td>...</td>\n",
       "      <td>...</td>\n",
       "      <td>...</td>\n",
       "    </tr>\n",
       "    <tr>\n",
       "      <th>18940</th>\n",
       "      <td>2020-08-02</td>\n",
       "      <td>Watched 닭꼬치 튀김 / fried chicken skewer - dak kk...</td>\n",
       "      <td>https://www.youtube.com/watch?v=82TBMDnHUg4</td>\n",
       "      <td>[{'name': 'ETTV 이티티비', 'url': 'https://www.you...</td>\n",
       "      <td>2020-08-02T19:31:56.791Z</td>\n",
       "    </tr>\n",
       "    <tr>\n",
       "      <th>18941</th>\n",
       "      <td>2020-08-02</td>\n",
       "      <td>Watched CARDI B Best Funny Moments, Sounds and...</td>\n",
       "      <td>https://www.youtube.com/watch?v=yQTLVBbIyS8</td>\n",
       "      <td>[{'name': 'KeDHD', 'url': 'https://www.youtube...</td>\n",
       "      <td>2020-08-02T19:24:31.615Z</td>\n",
       "    </tr>\n",
       "    <tr>\n",
       "      <th>18942</th>\n",
       "      <td>2020-08-02</td>\n",
       "      <td>Watched [VIDEOMUG] 영화 보러 가던 소방관 부부, 심정지 환자 살렸다...</td>\n",
       "      <td>https://www.youtube.com/watch?v=FodrodCwLMU</td>\n",
       "      <td>[{'name': 'SBS 뉴스', 'url': 'https://www.youtub...</td>\n",
       "      <td>2020-08-02T19:22:09.733Z</td>\n",
       "    </tr>\n",
       "    <tr>\n",
       "      <th>18943</th>\n",
       "      <td>2020-08-02</td>\n",
       "      <td>Watched Cardi B - Jingle Ball Concert (Full)</td>\n",
       "      <td>https://www.youtube.com/watch?v=Wj-5z_paboQ</td>\n",
       "      <td>[{'name': 'Dweaver573', 'url': 'https://www.yo...</td>\n",
       "      <td>2020-08-02T11:51:20.639Z</td>\n",
       "    </tr>\n",
       "    <tr>\n",
       "      <th>18944</th>\n",
       "      <td>2020-08-02</td>\n",
       "      <td>Watched Cardi B performs Coachella 2018</td>\n",
       "      <td>https://www.youtube.com/watch?v=gAg-JZd7vMQ</td>\n",
       "      <td>[{'name': 'Angie Rodriguez', 'url': 'https://w...</td>\n",
       "      <td>2020-08-02T11:44:12.464Z</td>\n",
       "    </tr>\n",
       "  </tbody>\n",
       "</table>\n",
       "<p>17739 rows × 5 columns</p>\n",
       "</div>"
      ],
      "text/plain": [
       "           header                                              title  \\\n",
       "1206   2022-08-31  Watched 독종 VS 별종 두 변호사의 한치 양보 없는 티키타카 | [변론을 시...   \n",
       "1207   2022-08-31                           Watched 촬영을 포기할 수 밖에 없었다   \n",
       "1208   2022-08-31     Watched 이지카이트 (Izykite) - 여름밤 [Official Video]   \n",
       "1209   2022-08-31      Watched 지잉~ 슈.슈.슉 착! 바쁘다 바빠! | 갤럭시 폴더블폰 생산 과정   \n",
       "1210   2022-08-31  Watched [Edit.ver/편집버전] 예전 영상 우려먹기 3탄!! 박여사님표 ...   \n",
       "...           ...                                                ...   \n",
       "18940  2020-08-02  Watched 닭꼬치 튀김 / fried chicken skewer - dak kk...   \n",
       "18941  2020-08-02  Watched CARDI B Best Funny Moments, Sounds and...   \n",
       "18942  2020-08-02  Watched [VIDEOMUG] 영화 보러 가던 소방관 부부, 심정지 환자 살렸다...   \n",
       "18943  2020-08-02       Watched Cardi B - Jingle Ball Concert (Full)   \n",
       "18944  2020-08-02            Watched Cardi B performs Coachella 2018   \n",
       "\n",
       "                                          titleUrl  \\\n",
       "1206   https://www.youtube.com/watch?v=uGKJ_ecpPK0   \n",
       "1207   https://www.youtube.com/watch?v=OM2F6g5bL0E   \n",
       "1208   https://www.youtube.com/watch?v=SomJqQvGpsQ   \n",
       "1209   https://www.youtube.com/watch?v=77mTHIs_gT8   \n",
       "1210   https://www.youtube.com/watch?v=g8t7X1lxdZ4   \n",
       "...                                            ...   \n",
       "18940  https://www.youtube.com/watch?v=82TBMDnHUg4   \n",
       "18941  https://www.youtube.com/watch?v=yQTLVBbIyS8   \n",
       "18942  https://www.youtube.com/watch?v=FodrodCwLMU   \n",
       "18943  https://www.youtube.com/watch?v=Wj-5z_paboQ   \n",
       "18944  https://www.youtube.com/watch?v=gAg-JZd7vMQ   \n",
       "\n",
       "                                               subtitles  \\\n",
       "1206                                                 NaN   \n",
       "1207   [{'name': 'haha ha', 'url': 'https://www.youtu...   \n",
       "1208                                                 NaN   \n",
       "1209                                                 NaN   \n",
       "1210   [{'name': '입짧은햇님', 'url': 'https://www.youtube...   \n",
       "...                                                  ...   \n",
       "18940  [{'name': 'ETTV 이티티비', 'url': 'https://www.you...   \n",
       "18941  [{'name': 'KeDHD', 'url': 'https://www.youtube...   \n",
       "18942  [{'name': 'SBS 뉴스', 'url': 'https://www.youtub...   \n",
       "18943  [{'name': 'Dweaver573', 'url': 'https://www.yo...   \n",
       "18944  [{'name': 'Angie Rodriguez', 'url': 'https://w...   \n",
       "\n",
       "                           time  \n",
       "1206   2022-08-31T16:06:34.219Z  \n",
       "1207   2022-08-31T15:58:54.628Z  \n",
       "1208   2022-08-31T15:58:41.346Z  \n",
       "1209   2022-08-31T12:42:28.281Z  \n",
       "1210   2022-08-31T12:00:59.803Z  \n",
       "...                         ...  \n",
       "18940  2020-08-02T19:31:56.791Z  \n",
       "18941  2020-08-02T19:24:31.615Z  \n",
       "18942  2020-08-02T19:22:09.733Z  \n",
       "18943  2020-08-02T11:51:20.639Z  \n",
       "18944  2020-08-02T11:44:12.464Z  \n",
       "\n",
       "[17739 rows x 5 columns]"
      ]
     },
     "execution_count": 15,
     "metadata": {},
     "output_type": "execute_result"
    }
   ],
   "source": [
    "#원하는 열만 남겨두기(Leave only the columns you want)\n",
    "df=df[['header','title','titleUrl','subtitles','time']]\n",
    "df  "
   ]
  },
  {
   "cell_type": "code",
   "execution_count": null,
   "id": "790eeb79",
   "metadata": {
    "id": "790eeb79"
   },
   "outputs": [],
   "source": [
    "df.to_csv('71.csv',encoding='utf-8')"
   ]
  },
  {
   "cell_type": "code",
   "execution_count": null,
   "id": "0b29081e",
   "metadata": {
    "id": "0b29081e"
   },
   "outputs": [],
   "source": []
  },
  {
   "cell_type": "code",
   "execution_count": null,
   "id": "4a3321a7",
   "metadata": {
    "id": "4a3321a7"
   },
   "outputs": [],
   "source": []
  }
 ],
 "metadata": {
  "colab": {
   "collapsed_sections": [],
   "provenance": []
  },
  "kernelspec": {
   "display_name": "Python 3 (ipykernel)",
   "language": "python",
   "name": "python3"
  },
  "language_info": {
   "codemirror_mode": {
    "name": "ipython",
    "version": 3
   },
   "file_extension": ".py",
   "mimetype": "text/x-python",
   "name": "python",
   "nbconvert_exporter": "python",
   "pygments_lexer": "ipython3",
   "version": "3.9.13"
  }
 },
 "nbformat": 4,
 "nbformat_minor": 5
}
