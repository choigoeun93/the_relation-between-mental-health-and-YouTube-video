{
 "cells": [
  {
   "cell_type": "code",
   "execution_count": 3,
   "id": "115b36ee",
   "metadata": {
    "colab": {
     "base_uri": "https://localhost:8080/"
    },
    "executionInfo": {
     "elapsed": 6628,
     "status": "ok",
     "timestamp": 1665713425410,
     "user": {
      "displayName": "최고은인공지능융합대학 디지털애널리틱스",
      "userId": "18043809448143178683"
     },
     "user_tz": -540
    },
    "id": "115b36ee",
    "outputId": "7e3501cb-aaea-43cb-c455-ca01c08ba8c8"
   },
   "outputs": [
    {
     "name": "stdout",
     "output_type": "stream",
     "text": [
      "Defaulting to user installation because normal site-packages is not writeable\n",
      "Requirement already satisfied: pytube in c:\\users\\choig\\appdata\\roaming\\python\\python39\\site-packages (12.1.2)\n",
      "Note: you may need to restart the kernel to use updated packages.\n"
     ]
    }
   ],
   "source": [
    "pip install pytube"
   ]
  },
  {
   "cell_type": "code",
   "execution_count": 4,
   "id": "b1653f59",
   "metadata": {
    "colab": {
     "base_uri": "https://localhost:8080/"
    },
    "executionInfo": {
     "elapsed": 28154,
     "status": "ok",
     "timestamp": 1665713453556,
     "user": {
      "displayName": "최고은인공지능융합대학 디지털애널리틱스",
      "userId": "18043809448143178683"
     },
     "user_tz": -540
    },
    "id": "b1653f59",
    "outputId": "eebad1f1-1eb2-40b0-cd9c-9ab25b6e7289"
   },
   "outputs": [],
   "source": [
    "from pytube import YouTube\n",
    "import pandas as pd\n",
    "import tqdm\n",
    "import os"
   ]
  },
  {
   "cell_type": "code",
   "execution_count": 5,
   "id": "fceb7be9",
   "metadata": {},
   "outputs": [],
   "source": [
    "#url이 비어있지 않은 시청기록 불러오기(Load watch history with non-empty url)\n",
    "df = pd.read_csv('71.csv',encoding='utf-8') \n",
    "df=df[df['titleUrl'].notnull()]\n",
    "df=df[df['titleUrl'].str.contains('www.')]"
   ]
  },
  {
   "cell_type": "code",
   "execution_count": 6,
   "id": "e7b19519",
   "metadata": {},
   "outputs": [
    {
     "data": {
      "text/html": [
       "<div>\n",
       "<style scoped>\n",
       "    .dataframe tbody tr th:only-of-type {\n",
       "        vertical-align: middle;\n",
       "    }\n",
       "\n",
       "    .dataframe tbody tr th {\n",
       "        vertical-align: top;\n",
       "    }\n",
       "\n",
       "    .dataframe thead th {\n",
       "        text-align: right;\n",
       "    }\n",
       "</style>\n",
       "<table border=\"1\" class=\"dataframe\">\n",
       "  <thead>\n",
       "    <tr style=\"text-align: right;\">\n",
       "      <th></th>\n",
       "      <th>Unnamed: 0</th>\n",
       "      <th>header</th>\n",
       "      <th>title</th>\n",
       "      <th>titleUrl</th>\n",
       "      <th>subtitles</th>\n",
       "      <th>time</th>\n",
       "    </tr>\n",
       "  </thead>\n",
       "  <tbody>\n",
       "    <tr>\n",
       "      <th>0</th>\n",
       "      <td>1206</td>\n",
       "      <td>2022-08-31</td>\n",
       "      <td>Watched 독종 VS 별종 두 변호사의 한치 양보 없는 티키타카 | [변론을 시...</td>\n",
       "      <td>https://www.youtube.com/watch?v=uGKJ_ecpPK0</td>\n",
       "      <td>NaN</td>\n",
       "      <td>2022-08-31T16:06:34.219Z</td>\n",
       "    </tr>\n",
       "    <tr>\n",
       "      <th>1</th>\n",
       "      <td>1207</td>\n",
       "      <td>2022-08-31</td>\n",
       "      <td>Watched 촬영을 포기할 수 밖에 없었다</td>\n",
       "      <td>https://www.youtube.com/watch?v=OM2F6g5bL0E</td>\n",
       "      <td>[{'name': 'haha ha', 'url': 'https://www.youtu...</td>\n",
       "      <td>2022-08-31T15:58:54.628Z</td>\n",
       "    </tr>\n",
       "    <tr>\n",
       "      <th>2</th>\n",
       "      <td>1208</td>\n",
       "      <td>2022-08-31</td>\n",
       "      <td>Watched 이지카이트 (Izykite) - 여름밤 [Official Video]</td>\n",
       "      <td>https://www.youtube.com/watch?v=SomJqQvGpsQ</td>\n",
       "      <td>NaN</td>\n",
       "      <td>2022-08-31T15:58:41.346Z</td>\n",
       "    </tr>\n",
       "    <tr>\n",
       "      <th>3</th>\n",
       "      <td>1209</td>\n",
       "      <td>2022-08-31</td>\n",
       "      <td>Watched 지잉~ 슈.슈.슉 착! 바쁘다 바빠! | 갤럭시 폴더블폰 생산 과정</td>\n",
       "      <td>https://www.youtube.com/watch?v=77mTHIs_gT8</td>\n",
       "      <td>NaN</td>\n",
       "      <td>2022-08-31T12:42:28.281Z</td>\n",
       "    </tr>\n",
       "    <tr>\n",
       "      <th>4</th>\n",
       "      <td>1210</td>\n",
       "      <td>2022-08-31</td>\n",
       "      <td>Watched [Edit.ver/편집버전] 예전 영상 우려먹기 3탄!! 박여사님표 ...</td>\n",
       "      <td>https://www.youtube.com/watch?v=g8t7X1lxdZ4</td>\n",
       "      <td>[{'name': '입짧은햇님', 'url': 'https://www.youtube...</td>\n",
       "      <td>2022-08-31T12:00:59.803Z</td>\n",
       "    </tr>\n",
       "    <tr>\n",
       "      <th>...</th>\n",
       "      <td>...</td>\n",
       "      <td>...</td>\n",
       "      <td>...</td>\n",
       "      <td>...</td>\n",
       "      <td>...</td>\n",
       "      <td>...</td>\n",
       "    </tr>\n",
       "    <tr>\n",
       "      <th>17734</th>\n",
       "      <td>18940</td>\n",
       "      <td>2020-08-02</td>\n",
       "      <td>Watched 닭꼬치 튀김 / fried chicken skewer - dak kk...</td>\n",
       "      <td>https://www.youtube.com/watch?v=82TBMDnHUg4</td>\n",
       "      <td>[{'name': 'ETTV 이티티비', 'url': 'https://www.you...</td>\n",
       "      <td>2020-08-02T19:31:56.791Z</td>\n",
       "    </tr>\n",
       "    <tr>\n",
       "      <th>17735</th>\n",
       "      <td>18941</td>\n",
       "      <td>2020-08-02</td>\n",
       "      <td>Watched CARDI B Best Funny Moments, Sounds and...</td>\n",
       "      <td>https://www.youtube.com/watch?v=yQTLVBbIyS8</td>\n",
       "      <td>[{'name': 'KeDHD', 'url': 'https://www.youtube...</td>\n",
       "      <td>2020-08-02T19:24:31.615Z</td>\n",
       "    </tr>\n",
       "    <tr>\n",
       "      <th>17736</th>\n",
       "      <td>18942</td>\n",
       "      <td>2020-08-02</td>\n",
       "      <td>Watched [VIDEOMUG] 영화 보러 가던 소방관 부부, 심정지 환자 살렸다...</td>\n",
       "      <td>https://www.youtube.com/watch?v=FodrodCwLMU</td>\n",
       "      <td>[{'name': 'SBS 뉴스', 'url': 'https://www.youtub...</td>\n",
       "      <td>2020-08-02T19:22:09.733Z</td>\n",
       "    </tr>\n",
       "    <tr>\n",
       "      <th>17737</th>\n",
       "      <td>18943</td>\n",
       "      <td>2020-08-02</td>\n",
       "      <td>Watched Cardi B - Jingle Ball Concert (Full)</td>\n",
       "      <td>https://www.youtube.com/watch?v=Wj-5z_paboQ</td>\n",
       "      <td>[{'name': 'Dweaver573', 'url': 'https://www.yo...</td>\n",
       "      <td>2020-08-02T11:51:20.639Z</td>\n",
       "    </tr>\n",
       "    <tr>\n",
       "      <th>17738</th>\n",
       "      <td>18944</td>\n",
       "      <td>2020-08-02</td>\n",
       "      <td>Watched Cardi B performs Coachella 2018</td>\n",
       "      <td>https://www.youtube.com/watch?v=gAg-JZd7vMQ</td>\n",
       "      <td>[{'name': 'Angie Rodriguez', 'url': 'https://w...</td>\n",
       "      <td>2020-08-02T11:44:12.464Z</td>\n",
       "    </tr>\n",
       "  </tbody>\n",
       "</table>\n",
       "<p>17580 rows × 6 columns</p>\n",
       "</div>"
      ],
      "text/plain": [
       "       Unnamed: 0      header  \\\n",
       "0            1206  2022-08-31   \n",
       "1            1207  2022-08-31   \n",
       "2            1208  2022-08-31   \n",
       "3            1209  2022-08-31   \n",
       "4            1210  2022-08-31   \n",
       "...           ...         ...   \n",
       "17734       18940  2020-08-02   \n",
       "17735       18941  2020-08-02   \n",
       "17736       18942  2020-08-02   \n",
       "17737       18943  2020-08-02   \n",
       "17738       18944  2020-08-02   \n",
       "\n",
       "                                                   title  \\\n",
       "0      Watched 독종 VS 별종 두 변호사의 한치 양보 없는 티키타카 | [변론을 시...   \n",
       "1                               Watched 촬영을 포기할 수 밖에 없었다   \n",
       "2         Watched 이지카이트 (Izykite) - 여름밤 [Official Video]   \n",
       "3          Watched 지잉~ 슈.슈.슉 착! 바쁘다 바빠! | 갤럭시 폴더블폰 생산 과정   \n",
       "4      Watched [Edit.ver/편집버전] 예전 영상 우려먹기 3탄!! 박여사님표 ...   \n",
       "...                                                  ...   \n",
       "17734  Watched 닭꼬치 튀김 / fried chicken skewer - dak kk...   \n",
       "17735  Watched CARDI B Best Funny Moments, Sounds and...   \n",
       "17736  Watched [VIDEOMUG] 영화 보러 가던 소방관 부부, 심정지 환자 살렸다...   \n",
       "17737       Watched Cardi B - Jingle Ball Concert (Full)   \n",
       "17738            Watched Cardi B performs Coachella 2018   \n",
       "\n",
       "                                          titleUrl  \\\n",
       "0      https://www.youtube.com/watch?v=uGKJ_ecpPK0   \n",
       "1      https://www.youtube.com/watch?v=OM2F6g5bL0E   \n",
       "2      https://www.youtube.com/watch?v=SomJqQvGpsQ   \n",
       "3      https://www.youtube.com/watch?v=77mTHIs_gT8   \n",
       "4      https://www.youtube.com/watch?v=g8t7X1lxdZ4   \n",
       "...                                            ...   \n",
       "17734  https://www.youtube.com/watch?v=82TBMDnHUg4   \n",
       "17735  https://www.youtube.com/watch?v=yQTLVBbIyS8   \n",
       "17736  https://www.youtube.com/watch?v=FodrodCwLMU   \n",
       "17737  https://www.youtube.com/watch?v=Wj-5z_paboQ   \n",
       "17738  https://www.youtube.com/watch?v=gAg-JZd7vMQ   \n",
       "\n",
       "                                               subtitles  \\\n",
       "0                                                    NaN   \n",
       "1      [{'name': 'haha ha', 'url': 'https://www.youtu...   \n",
       "2                                                    NaN   \n",
       "3                                                    NaN   \n",
       "4      [{'name': '입짧은햇님', 'url': 'https://www.youtube...   \n",
       "...                                                  ...   \n",
       "17734  [{'name': 'ETTV 이티티비', 'url': 'https://www.you...   \n",
       "17735  [{'name': 'KeDHD', 'url': 'https://www.youtube...   \n",
       "17736  [{'name': 'SBS 뉴스', 'url': 'https://www.youtub...   \n",
       "17737  [{'name': 'Dweaver573', 'url': 'https://www.yo...   \n",
       "17738  [{'name': 'Angie Rodriguez', 'url': 'https://w...   \n",
       "\n",
       "                           time  \n",
       "0      2022-08-31T16:06:34.219Z  \n",
       "1      2022-08-31T15:58:54.628Z  \n",
       "2      2022-08-31T15:58:41.346Z  \n",
       "3      2022-08-31T12:42:28.281Z  \n",
       "4      2022-08-31T12:00:59.803Z  \n",
       "...                         ...  \n",
       "17734  2020-08-02T19:31:56.791Z  \n",
       "17735  2020-08-02T19:24:31.615Z  \n",
       "17736  2020-08-02T19:22:09.733Z  \n",
       "17737  2020-08-02T11:51:20.639Z  \n",
       "17738  2020-08-02T11:44:12.464Z  \n",
       "\n",
       "[17580 rows x 6 columns]"
      ]
     },
     "execution_count": 6,
     "metadata": {},
     "output_type": "execute_result"
    }
   ],
   "source": [
    "df"
   ]
  },
  {
   "cell_type": "code",
   "execution_count": null,
   "id": "0376f37e",
   "metadata": {
    "colab": {
     "base_uri": "https://localhost:8080/"
    },
    "executionInfo": {
     "elapsed": 22077671,
     "status": "ok",
     "timestamp": 1665735566314,
     "user": {
      "displayName": "최고은인공지능융합대학 디지털애널리틱스",
      "userId": "18043809448143178683"
     },
     "user_tz": -540
    },
    "id": "0376f37e",
    "outputId": "6a3d16fd-d8be-462c-9577-9698af3be712"
   },
   "outputs": [],
   "source": [
    "#영상길이 다운로드(Download video length information)\n",
    "for i in range(0,len(df)):\n",
    "    try:\n",
    "        yt = YouTube(df['titleUrl'][i])\n",
    "        df['subtitles'][i]=yt.length\n",
    "    except:\n",
    "        #시청기록 다운로드시에는 삭제된 영상이 아니었지만 지금은 삭제된 영상이라면\n",
    "        #정보를 다운로드할 수 없기에 에러가 납니다\n",
    "        #(When downloading the viewing history, it was not a deleted video.\n",
    "        #but if it is a deleted video now, an error occurs because the information cannot be downloaded.)\n",
    "        #그래서 해당 영상은 0초로 영상 길이를 표시했어요\n",
    "        df['subtitles'][i]='0'\n",
    "    df=df.dropna()\n",
    "    #영상길이정보를 숫자로 바꾸고 60초 이하인 숏폼 콘텐츠를 삭제하였습니다(remove short form video)\n",
    "    df=df.astype({'subtitles':'float'})\n",
    "    df=df.astype({'subtitles':'int'})\n",
    "    df=df[df['subtitles']>60]\n"
   ]
  },
  {
   "cell_type": "code",
   "execution_count": null,
   "id": "wUx4i55w2mtL",
   "metadata": {
    "id": "wUx4i55w2mtL"
   },
   "outputs": [],
   "source": [
    "#원하는 열만 남기고 파일 저장\n",
    "df=df[['header','title','titleUrl','subtitles','time']]\n",
    "df.to_csv('71_done.csv',encoding='utf-8')"
   ]
  }
 ],
 "metadata": {
  "colab": {
   "collapsed_sections": [],
   "provenance": []
  },
  "kernelspec": {
   "display_name": "Python 3 (ipykernel)",
   "language": "python",
   "name": "python3"
  },
  "language_info": {
   "codemirror_mode": {
    "name": "ipython",
    "version": 3
   },
   "file_extension": ".py",
   "mimetype": "text/x-python",
   "name": "python",
   "nbconvert_exporter": "python",
   "pygments_lexer": "ipython3",
   "version": "3.9.13"
  }
 },
 "nbformat": 4,
 "nbformat_minor": 5
}
