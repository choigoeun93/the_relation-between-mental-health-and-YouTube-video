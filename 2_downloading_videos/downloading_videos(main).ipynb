{
 "cells": [
  {
   "cell_type": "code",
   "execution_count": 1,
   "id": "0e5d2c6f",
   "metadata": {},
   "outputs": [
    {
     "name": "stdout",
     "output_type": "stream",
     "text": [
      "Requirement already satisfied: pytube in c:\\users\\user\\anaconda3\\lib\\site-packages (12.1.0)\n",
      "Note: you may need to restart the kernel to use updated packages.\n"
     ]
    }
   ],
   "source": [
    "pip install pytube"
   ]
  },
  {
   "cell_type": "code",
   "execution_count": 2,
   "id": "21931308",
   "metadata": {},
   "outputs": [
    {
     "name": "stdout",
     "output_type": "stream",
     "text": [
      "Requirement already satisfied: pytube in c:\\users\\user\\anaconda3\\lib\\site-packages (12.1.0)\n",
      "Note: you may need to restart the kernel to use updated packages.\n"
     ]
    }
   ],
   "source": [
    "pip install -U pytube"
   ]
  },
  {
   "cell_type": "code",
   "execution_count": 1,
   "id": "ad83c0f8",
   "metadata": {},
   "outputs": [],
   "source": [
    "import json\n",
    "import pandas as pd\n",
    "from pytube import YouTube\n",
    "import tqdm"
   ]
  },
  {
   "cell_type": "code",
   "execution_count": null,
   "id": "53c254f0",
   "metadata": {},
   "outputs": [],
   "source": [
    "# 영상 url이 담긴 파일 데이터프레임으로 읽기"
   ]
  },
  {
   "cell_type": "code",
   "execution_count": 14,
   "id": "be2699f5",
   "metadata": {},
   "outputs": [],
   "source": [
    "df = pd.read_csv('39_done.csv',encoding='utf-8') "
   ]
  },
  {
   "cell_type": "code",
   "execution_count": 15,
   "id": "ed755999",
   "metadata": {},
   "outputs": [
    {
     "data": {
      "text/html": [
       "<div>\n",
       "<style scoped>\n",
       "    .dataframe tbody tr th:only-of-type {\n",
       "        vertical-align: middle;\n",
       "    }\n",
       "\n",
       "    .dataframe tbody tr th {\n",
       "        vertical-align: top;\n",
       "    }\n",
       "\n",
       "    .dataframe thead th {\n",
       "        text-align: right;\n",
       "    }\n",
       "</style>\n",
       "<table border=\"1\" class=\"dataframe\">\n",
       "  <thead>\n",
       "    <tr style=\"text-align: right;\">\n",
       "      <th></th>\n",
       "      <th>Unnamed: 0</th>\n",
       "      <th>header</th>\n",
       "      <th>title</th>\n",
       "      <th>titleUrl</th>\n",
       "      <th>subtitles</th>\n",
       "      <th>time</th>\n",
       "    </tr>\n",
       "  </thead>\n",
       "  <tbody>\n",
       "    <tr>\n",
       "      <th>0</th>\n",
       "      <td>0</td>\n",
       "      <td>2022-08-31</td>\n",
       "      <td>프랜차이즈 치킨의 열폭 을(를) 시청했습니다.</td>\n",
       "      <td>https://www.youtube.com/watch?v=wk1NT8YT8Uk</td>\n",
       "      <td>105</td>\n",
       "      <td>2022-08-31T15:06:14.416Z</td>\n",
       "    </tr>\n",
       "    <tr>\n",
       "      <th>1</th>\n",
       "      <td>1</td>\n",
       "      <td>2022-08-31</td>\n",
       "      <td>British Highschoolers Shocked by Korean Seafoo...</td>\n",
       "      <td>https://www.youtube.com/watch?v=VjKhhZoaZRE</td>\n",
       "      <td>984</td>\n",
       "      <td>2022-08-31T14:53:26.631Z</td>\n",
       "    </tr>\n",
       "    <tr>\n",
       "      <th>2</th>\n",
       "      <td>2</td>\n",
       "      <td>2022-08-31</td>\n",
       "      <td>휴식 을(를) 시청했습니다.</td>\n",
       "      <td>https://www.youtube.com/watch?v=rw0W_vNq76A</td>\n",
       "      <td>33107</td>\n",
       "      <td>2022-08-31T14:53:13.319Z</td>\n",
       "    </tr>\n",
       "    <tr>\n",
       "      <th>3</th>\n",
       "      <td>3</td>\n",
       "      <td>2022-08-31</td>\n",
       "      <td>이 카드들이 데스피아의 날개를 달아줄 거야! 을(를) 시청했습니다.</td>\n",
       "      <td>https://www.youtube.com/watch?v=i9zoaTjnLwU</td>\n",
       "      <td>971</td>\n",
       "      <td>2022-08-31T14:36:53.525Z</td>\n",
       "    </tr>\n",
       "    <tr>\n",
       "      <th>4</th>\n",
       "      <td>4</td>\n",
       "      <td>2022-08-31</td>\n",
       "      <td>새로운 한국 ‘유희왕’이 탄생했습니다. 을(를) 시청했습니다.</td>\n",
       "      <td>https://www.youtube.com/watch?v=SKT7qOwwu6I</td>\n",
       "      <td>523</td>\n",
       "      <td>2022-08-31T12:32:48.389Z</td>\n",
       "    </tr>\n",
       "    <tr>\n",
       "      <th>...</th>\n",
       "      <td>...</td>\n",
       "      <td>...</td>\n",
       "      <td>...</td>\n",
       "      <td>...</td>\n",
       "      <td>...</td>\n",
       "      <td>...</td>\n",
       "    </tr>\n",
       "    <tr>\n",
       "      <th>10219</th>\n",
       "      <td>13875</td>\n",
       "      <td>2022-06-01</td>\n",
       "      <td>일반인들도 실탄 AR과 MPX, 권총 사격을 직접 해볼 수 있는곳 을(를) 시청했습니다.</td>\n",
       "      <td>https://www.youtube.com/watch?v=zYyEeTgKPPQ</td>\n",
       "      <td>422</td>\n",
       "      <td>2022-06-01T03:53:32.481Z</td>\n",
       "    </tr>\n",
       "    <tr>\n",
       "      <th>10220</th>\n",
       "      <td>13876</td>\n",
       "      <td>2022-06-01</td>\n",
       "      <td>《손흥민》 득점왕에 오르다 | 아저씨의 찐 리액션 을(를) 시청했습니다.</td>\n",
       "      <td>https://www.youtube.com/watch?v=-FBtFxjgP94</td>\n",
       "      <td>570</td>\n",
       "      <td>2022-06-01T02:52:27.473Z</td>\n",
       "    </tr>\n",
       "    <tr>\n",
       "      <th>10221</th>\n",
       "      <td>13877</td>\n",
       "      <td>2022-06-01</td>\n",
       "      <td>[걸작선 리와인드] 사냥의 시간 을(를) 시청했습니다.</td>\n",
       "      <td>https://www.youtube.com/watch?v=dilaOy_6ZqY</td>\n",
       "      <td>2448</td>\n",
       "      <td>2022-06-01T01:41:49.441Z</td>\n",
       "    </tr>\n",
       "    <tr>\n",
       "      <th>10222</th>\n",
       "      <td>13878</td>\n",
       "      <td>2022-06-01</td>\n",
       "      <td>시원시원하다 | 《범죄도시2》 감상평 을(를) 시청했습니다.</td>\n",
       "      <td>https://www.youtube.com/watch?v=enyALM7umyw</td>\n",
       "      <td>445</td>\n",
       "      <td>2022-06-01T01:34:08.594Z</td>\n",
       "    </tr>\n",
       "    <tr>\n",
       "      <th>10223</th>\n",
       "      <td>13879</td>\n",
       "      <td>2022-06-01</td>\n",
       "      <td>사육사 누나 한마디에 강아지가 되는 호랑이 ㄷㄷ 을(를) 시청했습니다.</td>\n",
       "      <td>https://www.youtube.com/watch?v=KrTEj-vEjOY</td>\n",
       "      <td>199</td>\n",
       "      <td>2022-06-01T01:33:30.242Z</td>\n",
       "    </tr>\n",
       "  </tbody>\n",
       "</table>\n",
       "<p>10224 rows × 6 columns</p>\n",
       "</div>"
      ],
      "text/plain": [
       "       Unnamed: 0      header  \\\n",
       "0               0  2022-08-31   \n",
       "1               1  2022-08-31   \n",
       "2               2  2022-08-31   \n",
       "3               3  2022-08-31   \n",
       "4               4  2022-08-31   \n",
       "...           ...         ...   \n",
       "10219       13875  2022-06-01   \n",
       "10220       13876  2022-06-01   \n",
       "10221       13877  2022-06-01   \n",
       "10222       13878  2022-06-01   \n",
       "10223       13879  2022-06-01   \n",
       "\n",
       "                                                   title  \\\n",
       "0                              프랜차이즈 치킨의 열폭 을(를) 시청했습니다.   \n",
       "1      British Highschoolers Shocked by Korean Seafoo...   \n",
       "2                                        휴식 을(를) 시청했습니다.   \n",
       "3                  이 카드들이 데스피아의 날개를 달아줄 거야! 을(를) 시청했습니다.   \n",
       "4                     새로운 한국 ‘유희왕’이 탄생했습니다. 을(를) 시청했습니다.   \n",
       "...                                                  ...   \n",
       "10219  일반인들도 실탄 AR과 MPX, 권총 사격을 직접 해볼 수 있는곳 을(를) 시청했습니다.   \n",
       "10220           《손흥민》 득점왕에 오르다 | 아저씨의 찐 리액션 을(를) 시청했습니다.   \n",
       "10221                     [걸작선 리와인드] 사냥의 시간 을(를) 시청했습니다.   \n",
       "10222                  시원시원하다 | 《범죄도시2》 감상평 을(를) 시청했습니다.   \n",
       "10223            사육사 누나 한마디에 강아지가 되는 호랑이 ㄷㄷ 을(를) 시청했습니다.   \n",
       "\n",
       "                                          titleUrl  subtitles  \\\n",
       "0      https://www.youtube.com/watch?v=wk1NT8YT8Uk        105   \n",
       "1      https://www.youtube.com/watch?v=VjKhhZoaZRE        984   \n",
       "2      https://www.youtube.com/watch?v=rw0W_vNq76A      33107   \n",
       "3      https://www.youtube.com/watch?v=i9zoaTjnLwU        971   \n",
       "4      https://www.youtube.com/watch?v=SKT7qOwwu6I        523   \n",
       "...                                            ...        ...   \n",
       "10219  https://www.youtube.com/watch?v=zYyEeTgKPPQ        422   \n",
       "10220  https://www.youtube.com/watch?v=-FBtFxjgP94        570   \n",
       "10221  https://www.youtube.com/watch?v=dilaOy_6ZqY       2448   \n",
       "10222  https://www.youtube.com/watch?v=enyALM7umyw        445   \n",
       "10223  https://www.youtube.com/watch?v=KrTEj-vEjOY        199   \n",
       "\n",
       "                           time  \n",
       "0      2022-08-31T15:06:14.416Z  \n",
       "1      2022-08-31T14:53:26.631Z  \n",
       "2      2022-08-31T14:53:13.319Z  \n",
       "3      2022-08-31T14:36:53.525Z  \n",
       "4      2022-08-31T12:32:48.389Z  \n",
       "...                         ...  \n",
       "10219  2022-06-01T03:53:32.481Z  \n",
       "10220  2022-06-01T02:52:27.473Z  \n",
       "10221  2022-06-01T01:41:49.441Z  \n",
       "10222  2022-06-01T01:34:08.594Z  \n",
       "10223  2022-06-01T01:33:30.242Z  \n",
       "\n",
       "[10224 rows x 6 columns]"
      ]
     },
     "execution_count": 15,
     "metadata": {},
     "output_type": "execute_result"
    }
   ],
   "source": [
    "df"
   ]
  },
  {
   "cell_type": "code",
   "execution_count": null,
   "id": "1065d2a6",
   "metadata": {},
   "outputs": [],
   "source": [
    "#url만 추출"
   ]
  },
  {
   "cell_type": "code",
   "execution_count": 16,
   "id": "3b7dfacd",
   "metadata": {},
   "outputs": [],
   "source": [
    "q=df['titleUrl']"
   ]
  },
  {
   "cell_type": "code",
   "execution_count": null,
   "id": "db9dcf76",
   "metadata": {},
   "outputs": [],
   "source": [
    "#다운로드폴더설정"
   ]
  },
  {
   "cell_type": "code",
   "execution_count": 17,
   "id": "0e04e056",
   "metadata": {},
   "outputs": [],
   "source": [
    "DOWNLOAD_FOLDER = \"C:\\\\Users\\\\user\\\\Downloads\\\\pytube-master\\\\pytube\\\\39\\\\\""
   ]
  },
  {
   "cell_type": "code",
   "execution_count": null,
   "id": "5701c0ff",
   "metadata": {},
   "outputs": [],
   "source": [
    "#파일 다운로드"
   ]
  },
  {
   "cell_type": "code",
   "execution_count": null,
   "id": "87e83b90",
   "metadata": {},
   "outputs": [],
   "source": [
    "for i in q:\n",
    "    url = i\n",
    "    yt = YouTube(url)\n",
    "    try:\n",
    "        stream = yt.streams.get_lowest_resolution()\n",
    "        stream.download(DOWNLOAD_FOLDER)\n",
    "    except:\n",
    "        pass"
   ]
  },
  {
   "cell_type": "code",
   "execution_count": null,
   "id": "e753b54c",
   "metadata": {},
   "outputs": [],
   "source": [
    "#연렁제한영상추출"
   ]
  },
  {
   "cell_type": "code",
   "execution_count": null,
   "id": "cf79e08f",
   "metadata": {},
   "outputs": [],
   "source": [
    "for i in range(0,len(df)):\n",
    "    url=df['titleUrl'][i]\n",
    "    yt = YouTube(url)\n",
    "    try:\n",
    "        df['Unnamed: 0'][i]=yt.age_restricted\n",
    "    except:\n",
    "        pass"
   ]
  },
  {
   "cell_type": "code",
   "execution_count": null,
   "id": "a81c90b6",
   "metadata": {},
   "outputs": [],
   "source": [
    "df.to_csv('39_연령.csv',encoding='utf-8')"
   ]
  },
  {
   "cell_type": "code",
   "execution_count": null,
   "id": "080b3e58",
   "metadata": {},
   "outputs": [],
   "source": []
  }
 ],
 "metadata": {
  "kernelspec": {
   "display_name": "Python 3 (ipykernel)",
   "language": "python",
   "name": "python3"
  },
  "language_info": {
   "codemirror_mode": {
    "name": "ipython",
    "version": 3
   },
   "file_extension": ".py",
   "mimetype": "text/x-python",
   "name": "python",
   "nbconvert_exporter": "python",
   "pygments_lexer": "ipython3",
   "version": "3.9.13"
  }
 },
 "nbformat": 4,
 "nbformat_minor": 5
}
