{
 "cells": [
  {
   "cell_type": "code",
   "execution_count": 1,
   "id": "a1292345",
   "metadata": {},
   "outputs": [
    {
     "name": "stdout",
     "output_type": "stream",
     "text": [
      "Defaulting to user installation because normal site-packages is not writeable\n",
      "Requirement already satisfied: openCV-python in c:\\users\\choig\\appdata\\roaming\\python\\python39\\site-packages (4.6.0.66)\n",
      "Requirement already satisfied: numpy>=1.19.3 in c:\\programdata\\anaconda3\\lib\\site-packages (from openCV-python) (1.21.5)\n",
      "Note: you may need to restart the kernel to use updated packages.\n"
     ]
    }
   ],
   "source": [
    "pip install openCV-python"
   ]
  },
  {
   "cell_type": "code",
   "execution_count": 2,
   "id": "6c4d78d2",
   "metadata": {},
   "outputs": [
    {
     "name": "stdout",
     "output_type": "stream",
     "text": [
      "4.6.0\n"
     ]
    }
   ],
   "source": [
    "#라이브러리 호출(import the necessary function)\n",
    "import cv2\n",
    "import os\n",
    "\n",
    "print(cv2.__version__)"
   ]
  },
  {
   "cell_type": "code",
   "execution_count": null,
   "id": "89521eea",
   "metadata": {},
   "outputs": [],
   "source": [
    "#영상이 저장되어 있는 폴더 이름(Folder name where the video is saved)\n",
    "direc=\"D:\\\\gradu\\\\vide\\\\15\\\\\"\n",
    "num1=os.listdir(direc)"
   ]
  },
  {
   "cell_type": "code",
   "execution_count": null,
   "id": "0294bc32",
   "metadata": {},
   "outputs": [],
   "source": [
    "#폴더 내 영상 이름을 list로 (Make a list of video names in a folder)\n",
    "video_list = [file for file in num1 if file.endswith(\".mp4\")]\n",
    "video_list.sort()"
   ]
  },
  {
   "cell_type": "code",
   "execution_count": null,
   "id": "0ff4fe79",
   "metadata": {},
   "outputs": [],
   "source": [
    "\n",
    "\n",
    "for i in range(0,len(video_list)):\n",
    "    #파일이 저장된 폴더\n",
    "    filepath='D:\\\\gradu\\\\vide\\\\15\\\\'+video_list[i]\n",
    "    #프레임을 저장할 폴더 입력\n",
    "    save_path=\"C:\\\\Users\\\\choig\\\\Downloads\\\\\"+filepath[14:16]#파일이 저장된 폴더명이 달라지면 14:16이 아닌 다른 인덱스를 입력해서\n",
    "    #폴더명을 생성하셔야 합니다 \n",
    "    \n",
    "    #프레임을 저장할 디렉토리를 생성\n",
    "    try:\n",
    "        if not os.path.exists(save_path):\n",
    "            os.makedirs(save_path)\n",
    "    except OSError:\n",
    "        print ('Error: Creating directory. ' +  save_path)\n",
    "        \n",
    "    video = cv2.VideoCapture(filepath)\n",
    "    if not video.isOpened():\n",
    "        print(\"Could not Open :\", filepath)\n",
    "        exit(0)\n",
    "    #불러온 비디오 파일의 정보 출력\n",
    "    length = int(video.get(cv2.CAP_PROP_FRAME_COUNT))\n",
    "    width = int(video.get(cv2.CAP_PROP_FRAME_WIDTH))\n",
    "    height = int(video.get(cv2.CAP_PROP_FRAME_HEIGHT))\n",
    "    fps = video.get(cv2.CAP_PROP_FPS)\n",
    "    vidcap = cv2.VideoCapture(filepath)\n",
    "    count = 1\n",
    "    success = True\n",
    "    while success:\n",
    "        success, image = vidcap.read()\n",
    "      # 프레임\n",
    "        frame = int(vidcap.get(1))\n",
    "        try:\n",
    "            if(int(vidcap.get(1)) % fps == 0):\n",
    "        # 이미지 사이즈 변경\n",
    "        # image = cv2.resize(image, (960, 540))\n",
    "        #저장될 파일명\n",
    "                title = \"./\"+filepath[14:16]+\"/\"+str(i)+\"_\"+\"%d_frame_%d.jpg\" % (count, frame)\n",
    "                cv2.imwrite(title, image)\n",
    "                count += 1\n",
    "        except:\n",
    "            print(video_list[i]+'에러')"
   ]
  },
  {
   "cell_type": "code",
   "execution_count": null,
   "id": "a4de6c06",
   "metadata": {},
   "outputs": [],
   "source": []
  }
 ],
 "metadata": {
  "kernelspec": {
   "display_name": "Python 3 (ipykernel)",
   "language": "python",
   "name": "python3"
  },
  "language_info": {
   "codemirror_mode": {
    "name": "ipython",
    "version": 3
   },
   "file_extension": ".py",
   "mimetype": "text/x-python",
   "name": "python",
   "nbconvert_exporter": "python",
   "pygments_lexer": "ipython3",
   "version": "3.9.13"
  }
 },
 "nbformat": 4,
 "nbformat_minor": 5
}
