{
 "cells": [
  {
   "cell_type": "code",
   "execution_count": 1,
   "id": "c45060aa",
   "metadata": {},
   "outputs": [],
   "source": [
    "import pandas as pd\n",
    "import os\n",
    "import cv2\n",
    "import tqdm"
   ]
  },
  {
   "cell_type": "code",
   "execution_count": 5,
   "id": "f0fb6f4d",
   "metadata": {},
   "outputs": [
    {
     "data": {
      "text/plain": [
       "405660"
      ]
     },
     "execution_count": 5,
     "metadata": {},
     "output_type": "execute_result"
    }
   ],
   "source": [
    "direc=\"C:\\\\Users\\\\user\\\\Downloads\\\\45_45\\\\45\\\\\"\n",
    "num1=os.listdir(direc)\n",
    "video_list = [file for file in num1 if file.endswith(\".jpg\")]\n",
    "len(video_list)"
   ]
  },
  {
   "cell_type": "code",
   "execution_count": 6,
   "id": "e3b8d072",
   "metadata": {},
   "outputs": [
    {
     "data": {
      "text/html": [
       "<div>\n",
       "<style scoped>\n",
       "    .dataframe tbody tr th:only-of-type {\n",
       "        vertical-align: middle;\n",
       "    }\n",
       "\n",
       "    .dataframe tbody tr th {\n",
       "        vertical-align: top;\n",
       "    }\n",
       "\n",
       "    .dataframe thead th {\n",
       "        text-align: right;\n",
       "    }\n",
       "</style>\n",
       "<table border=\"1\" class=\"dataframe\">\n",
       "  <thead>\n",
       "    <tr style=\"text-align: right;\">\n",
       "      <th></th>\n",
       "      <th>s</th>\n",
       "      <th>v</th>\n",
       "    </tr>\n",
       "  </thead>\n",
       "  <tbody>\n",
       "    <tr>\n",
       "      <th>0</th>\n",
       "      <td>NaN</td>\n",
       "      <td>NaN</td>\n",
       "    </tr>\n",
       "  </tbody>\n",
       "</table>\n",
       "</div>"
      ],
      "text/plain": [
       "     s    v\n",
       "0  NaN  NaN"
      ]
     },
     "execution_count": 6,
     "metadata": {},
     "output_type": "execute_result"
    }
   ],
   "source": [
    "df = pd.DataFrame(index=range(0,1),columns=['s','v'])\n",
    "df"
   ]
  },
  {
   "cell_type": "code",
   "execution_count": 7,
   "id": "baa89a35",
   "metadata": {},
   "outputs": [],
   "source": [
    "for k in range(0,len(video_list)):\n",
    "    file_name=video_list[k]\n",
    "    img = cv2.imread(direc+\"\\\\\"+file_name, cv2.IMREAD_COLOR)\n",
    "    HSV=cv2.cvtColor(img,cv2.COLOR_BGR2HSV)\n",
    "    h,s,v = cv2.split(HSV) \n",
    "   \n",
    "    v_value_count=v.mean()  \n",
    "    s_value_count=s.mean()   \n",
    "    \n",
    "    df.loc[str(file_name)]=[s_value_count,v_value_count]"
   ]
  },
  {
   "cell_type": "code",
   "execution_count": 8,
   "id": "75ea7761",
   "metadata": {},
   "outputs": [
    {
     "data": {
      "text/html": [
       "<div>\n",
       "<style scoped>\n",
       "    .dataframe tbody tr th:only-of-type {\n",
       "        vertical-align: middle;\n",
       "    }\n",
       "\n",
       "    .dataframe tbody tr th {\n",
       "        vertical-align: top;\n",
       "    }\n",
       "\n",
       "    .dataframe thead th {\n",
       "        text-align: right;\n",
       "    }\n",
       "</style>\n",
       "<table border=\"1\" class=\"dataframe\">\n",
       "  <thead>\n",
       "    <tr style=\"text-align: right;\">\n",
       "      <th></th>\n",
       "      <th>s</th>\n",
       "      <th>v</th>\n",
       "    </tr>\n",
       "  </thead>\n",
       "  <tbody>\n",
       "    <tr>\n",
       "      <th>0</th>\n",
       "      <td>NaN</td>\n",
       "      <td>NaN</td>\n",
       "    </tr>\n",
       "    <tr>\n",
       "      <th>0_100_frame_9000.jpg</th>\n",
       "      <td>45.288602</td>\n",
       "      <td>176.809492</td>\n",
       "    </tr>\n",
       "    <tr>\n",
       "      <th>0_101_frame_9090.jpg</th>\n",
       "      <td>58.181901</td>\n",
       "      <td>183.34796</td>\n",
       "    </tr>\n",
       "    <tr>\n",
       "      <th>0_102_frame_9180.jpg</th>\n",
       "      <td>44.967283</td>\n",
       "      <td>177.206797</td>\n",
       "    </tr>\n",
       "    <tr>\n",
       "      <th>0_103_frame_9270.jpg</th>\n",
       "      <td>45.699136</td>\n",
       "      <td>195.312452</td>\n",
       "    </tr>\n",
       "    <tr>\n",
       "      <th>...</th>\n",
       "      <td>...</td>\n",
       "      <td>...</td>\n",
       "    </tr>\n",
       "    <tr>\n",
       "      <th>9_93_frame_8370.jpg</th>\n",
       "      <td>58.579223</td>\n",
       "      <td>125.238542</td>\n",
       "    </tr>\n",
       "    <tr>\n",
       "      <th>9_94_frame_8460.jpg</th>\n",
       "      <td>125.688116</td>\n",
       "      <td>237.760981</td>\n",
       "    </tr>\n",
       "    <tr>\n",
       "      <th>9_95_frame_8550.jpg</th>\n",
       "      <td>125.528468</td>\n",
       "      <td>237.561858</td>\n",
       "    </tr>\n",
       "    <tr>\n",
       "      <th>9_96_frame_8640.jpg</th>\n",
       "      <td>125.528468</td>\n",
       "      <td>237.561858</td>\n",
       "    </tr>\n",
       "    <tr>\n",
       "      <th>9_9_frame_810.jpg</th>\n",
       "      <td>99.789071</td>\n",
       "      <td>163.634609</td>\n",
       "    </tr>\n",
       "  </tbody>\n",
       "</table>\n",
       "<p>405661 rows × 2 columns</p>\n",
       "</div>"
      ],
      "text/plain": [
       "                               s           v\n",
       "0                            NaN         NaN\n",
       "0_100_frame_9000.jpg   45.288602  176.809492\n",
       "0_101_frame_9090.jpg   58.181901   183.34796\n",
       "0_102_frame_9180.jpg   44.967283  177.206797\n",
       "0_103_frame_9270.jpg   45.699136  195.312452\n",
       "...                          ...         ...\n",
       "9_93_frame_8370.jpg    58.579223  125.238542\n",
       "9_94_frame_8460.jpg   125.688116  237.760981\n",
       "9_95_frame_8550.jpg   125.528468  237.561858\n",
       "9_96_frame_8640.jpg   125.528468  237.561858\n",
       "9_9_frame_810.jpg      99.789071  163.634609\n",
       "\n",
       "[405661 rows x 2 columns]"
      ]
     },
     "execution_count": 8,
     "metadata": {},
     "output_type": "execute_result"
    }
   ],
   "source": [
    "df"
   ]
  },
  {
   "cell_type": "code",
   "execution_count": 9,
   "id": "f0c3844e",
   "metadata": {},
   "outputs": [],
   "source": [
    "df.to_csv('45_hsv.csv',encoding='utf-8')"
   ]
  },
  {
   "cell_type": "code",
   "execution_count": null,
   "id": "bc4cc154",
   "metadata": {},
   "outputs": [],
   "source": []
  }
 ],
 "metadata": {
  "kernelspec": {
   "display_name": "Python 3 (ipykernel)",
   "language": "python",
   "name": "python3"
  },
  "language_info": {
   "codemirror_mode": {
    "name": "ipython",
    "version": 3
   },
   "file_extension": ".py",
   "mimetype": "text/x-python",
   "name": "python",
   "nbconvert_exporter": "python",
   "pygments_lexer": "ipython3",
   "version": "3.9.13"
  }
 },
 "nbformat": 4,
 "nbformat_minor": 5
}
