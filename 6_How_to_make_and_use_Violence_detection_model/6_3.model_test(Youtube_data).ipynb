{
 "cells": [
  {
   "cell_type": "code",
   "execution_count": 1,
   "id": "f04125d2",
   "metadata": {},
   "outputs": [],
   "source": [
    "from keras.models import load_model\n",
    "from keras.preprocessing.image import ImageDataGenerator\n",
    "import numpy as np\n",
    "import os\n",
    "import shutil"
   ]
  },
  {
   "cell_type": "code",
   "execution_count": 5,
   "id": "d28e067d",
   "metadata": {},
   "outputs": [],
   "source": [
    "\n",
    "file_path = './regnet_best.h5'\n",
    "test_data_dir = 'C:\\\\Users\\\\user\\\\Downloads\\\\test'\n",
    "\n",
    "batch_size = 200\n",
    "nb_samples = 2000\n",
    "SIZE = (224, 224)\n",
    "\n",
    "\n",
    "\n",
    "test_datagen = ImageDataGenerator()\n",
    "\n"
   ]
  },
  {
   "cell_type": "code",
   "execution_count": 3,
   "id": "33bf8f66",
   "metadata": {},
   "outputs": [],
   "source": [
    "model = load_model(file_path)"
   ]
  },
  {
   "cell_type": "code",
   "execution_count": 6,
   "id": "41f0f926",
   "metadata": {},
   "outputs": [
    {
     "name": "stdout",
     "output_type": "stream",
     "text": [
      "Found 2 images belonging to 2 classes.\n",
      "<keras.preprocessing.image.DirectoryIterator object at 0x0000028FA6A22A90>\n"
     ]
    }
   ],
   "source": [
    "test_generator = test_datagen.flow_from_directory(\n",
    "    test_data_dir,\n",
    "    target_size=SIZE,\n",
    "    batch_size=batch_size,\n",
    "    class_mode='binary',\n",
    "    shuffle=False)\n",
    "\n",
    "print(test_generator)"
   ]
  },
  {
   "cell_type": "code",
   "execution_count": 8,
   "id": "9b41533f",
   "metadata": {},
   "outputs": [
    {
     "name": "stdout",
     "output_type": "stream",
     "text": [
      " 1/10 [==>...........................] - ETA: 2sWARNING:tensorflow:Your input ran out of data; interrupting training. Make sure that your dataset or generator can generate at least `steps_per_epoch * epochs` batches (in this case, 10 batches). You may need to use the repeat() function when building your dataset.\n",
      "10/10 [==============================] - 0s 2ms/step\n",
      "wrong normal\n",
      "[]\n",
      "wrong violence\n",
      "[]\n"
     ]
    }
   ],
   "source": [
    "result = model.predict(test_generator, steps=nb_samples // batch_size)\n",
    "\n",
    "correct_normal = 0\n",
    "correct_violence = 0\n",
    "wrong_normal = []\n",
    "wrong_violence = []\n",
    "#0.9는 제가 정한 숫자에요\n",
    "# 다른 숫자가 폭력과 비폭력을 나누는 기준으로 적합하다고 생각하면\n",
    "#바꾸세요 (you can change the criterion for dividing violence from nonviolence.)\n",
    "for i, n in enumerate(test_generator.filenames):\n",
    "    if n.startswith(\"normal\") and result[i][0] <= 0.9:\n",
    "        correct_normal += 1\n",
    "    elif n.startswith(\"violence\") and result[i][0] > 0.9:\n",
    "        correct_violence += 1\n",
    "    elif n.startswith(\"normal\") and result[i][0] > 0.9:\n",
    "        wrong_normal.append(result[i][0])\n",
    "        #shutil.copyfile('./test/normal/'+n[6:], './misclasify_test/normal/'+str(result[i][0])+'.jpg')\n",
    "    elif n.startswith(\"violence\") and result[i][0] <= 0.9:\n",
    "        wrong_violence.append(result[i][0])\n",
    "        #shutil.copyfile('./test/violence/'+n[8:], './misclasify_test/violence/'+str(result[i][0])+'.jpg')\n",
    "print('wrong normal')\n",
    "print(wrong_normal)\n",
    "print('wrong violence')\n",
    "print(wrong_violence)"
   ]
  },
  {
   "cell_type": "code",
   "execution_count": null,
   "id": "863de177",
   "metadata": {},
   "outputs": [],
   "source": [
    "steps="
   ]
  }
 ],
 "metadata": {
  "kernelspec": {
   "display_name": "Python 3 (ipykernel)",
   "language": "python",
   "name": "python3"
  },
  "language_info": {
   "codemirror_mode": {
    "name": "ipython",
    "version": 3
   },
   "file_extension": ".py",
   "mimetype": "text/x-python",
   "name": "python",
   "nbconvert_exporter": "python",
   "pygments_lexer": "ipython3",
   "version": "3.9.13"
  }
 },
 "nbformat": 4,
 "nbformat_minor": 5
}
